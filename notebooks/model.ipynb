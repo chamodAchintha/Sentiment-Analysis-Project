{
 "cells": [
  {
   "cell_type": "markdown",
   "metadata": {},
   "source": [
    "## Import Libraries"
   ]
  },
  {
   "cell_type": "code",
   "execution_count": 1,
   "metadata": {},
   "outputs": [],
   "source": [
    "import numpy as np\n",
    "import pandas as pd \n",
    "import matplotlib.pyplot as plt\n",
    "import re\n",
    "import string\n",
    "import nltk\n",
    "from sklearn.model_selection import train_test_split"
   ]
  },
  {
   "cell_type": "code",
   "execution_count": 2,
   "metadata": {},
   "outputs": [],
   "source": [
    "data = pd.read_csv('../artifacts/sentiment_analysis.csv')"
   ]
  },
  {
   "cell_type": "code",
   "execution_count": 3,
   "metadata": {},
   "outputs": [
    {
     "data": {
      "text/html": [
       "<div>\n",
       "<style scoped>\n",
       "    .dataframe tbody tr th:only-of-type {\n",
       "        vertical-align: middle;\n",
       "    }\n",
       "\n",
       "    .dataframe tbody tr th {\n",
       "        vertical-align: top;\n",
       "    }\n",
       "\n",
       "    .dataframe thead th {\n",
       "        text-align: right;\n",
       "    }\n",
       "</style>\n",
       "<table border=\"1\" class=\"dataframe\">\n",
       "  <thead>\n",
       "    <tr style=\"text-align: right;\">\n",
       "      <th></th>\n",
       "      <th>id</th>\n",
       "      <th>label</th>\n",
       "      <th>tweet</th>\n",
       "    </tr>\n",
       "  </thead>\n",
       "  <tbody>\n",
       "    <tr>\n",
       "      <th>0</th>\n",
       "      <td>1</td>\n",
       "      <td>0</td>\n",
       "      <td>#fingerprint #Pregnancy Test https://goo.gl/h1...</td>\n",
       "    </tr>\n",
       "    <tr>\n",
       "      <th>1</th>\n",
       "      <td>2</td>\n",
       "      <td>0</td>\n",
       "      <td>Finally a transparant silicon case ^^ Thanks t...</td>\n",
       "    </tr>\n",
       "    <tr>\n",
       "      <th>2</th>\n",
       "      <td>3</td>\n",
       "      <td>0</td>\n",
       "      <td>We love this! Would you go? #talk #makememorie...</td>\n",
       "    </tr>\n",
       "    <tr>\n",
       "      <th>3</th>\n",
       "      <td>4</td>\n",
       "      <td>0</td>\n",
       "      <td>I'm wired I know I'm George I was made that wa...</td>\n",
       "    </tr>\n",
       "    <tr>\n",
       "      <th>4</th>\n",
       "      <td>5</td>\n",
       "      <td>1</td>\n",
       "      <td>What amazing service! Apple won't even talk to...</td>\n",
       "    </tr>\n",
       "  </tbody>\n",
       "</table>\n",
       "</div>"
      ],
      "text/plain": [
       "   id  label                                              tweet\n",
       "0   1      0  #fingerprint #Pregnancy Test https://goo.gl/h1...\n",
       "1   2      0  Finally a transparant silicon case ^^ Thanks t...\n",
       "2   3      0  We love this! Would you go? #talk #makememorie...\n",
       "3   4      0  I'm wired I know I'm George I was made that wa...\n",
       "4   5      1  What amazing service! Apple won't even talk to..."
      ]
     },
     "execution_count": 3,
     "metadata": {},
     "output_type": "execute_result"
    }
   ],
   "source": [
    "data.head()"
   ]
  },
  {
   "cell_type": "markdown",
   "metadata": {},
   "source": [
    "## Data Preprocessing"
   ]
  },
  {
   "cell_type": "code",
   "execution_count": 4,
   "metadata": {},
   "outputs": [],
   "source": [
    "data['tweet'] = data['tweet'].apply(lambda x: \" \".join(x.lower() for x in x.split()))"
   ]
  },
  {
   "cell_type": "code",
   "execution_count": 5,
   "metadata": {},
   "outputs": [],
   "source": [
    "data['tweet'] = data['tweet'].apply(lambda x: \" \".join(re.sub(r'^https?:\\/\\/.*[\\r\\n]*','',x, flags=re.MULTILINE) for x in x.split()))"
   ]
  },
  {
   "cell_type": "code",
   "execution_count": 6,
   "metadata": {},
   "outputs": [],
   "source": [
    "def remove_punctuations(text):\n",
    "    for punct in string.punctuation:\n",
    "        text = text.replace(punct,'')\n",
    "    return text\n",
    "data['tweet'] = data['tweet'].apply(remove_punctuations)"
   ]
  },
  {
   "cell_type": "code",
   "execution_count": 7,
   "metadata": {},
   "outputs": [],
   "source": [
    "data['tweet'] = data['tweet'].str.replace('\\d+', '', regex=True)"
   ]
  },
  {
   "cell_type": "code",
   "execution_count": 8,
   "metadata": {},
   "outputs": [
    {
     "name": "stderr",
     "output_type": "stream",
     "text": [
      "[nltk_data] Downloading package stopwords to ../static/model...\n",
      "[nltk_data]   Package stopwords is already up-to-date!\n"
     ]
    },
    {
     "data": {
      "text/plain": [
       "True"
      ]
     },
     "execution_count": 8,
     "metadata": {},
     "output_type": "execute_result"
    }
   ],
   "source": [
    "nltk.download('stopwords', download_dir='../static/model')"
   ]
  },
  {
   "cell_type": "code",
   "execution_count": 9,
   "metadata": {},
   "outputs": [],
   "source": [
    "with open('../static/model/corpora/stopwords/english','r') as file:\n",
    "    stopwords = file.read().splitlines()"
   ]
  },
  {
   "cell_type": "code",
   "execution_count": 10,
   "metadata": {},
   "outputs": [],
   "source": [
    "data['tweet'] = data['tweet'].apply(lambda x: \" \".join(x for x in x.split() if x not in stopwords))"
   ]
  },
  {
   "cell_type": "code",
   "execution_count": 11,
   "metadata": {},
   "outputs": [],
   "source": [
    "from nltk.stem import PorterStemmer\n",
    "ps = PorterStemmer()"
   ]
  },
  {
   "cell_type": "code",
   "execution_count": 12,
   "metadata": {},
   "outputs": [],
   "source": [
    "data['tweet'] = data['tweet'].apply(lambda x: \" \".join(ps.stem(x) for x in x.split()))"
   ]
  },
  {
   "cell_type": "markdown",
   "metadata": {},
   "source": [
    "## Vocabulary"
   ]
  },
  {
   "cell_type": "code",
   "execution_count": 13,
   "metadata": {},
   "outputs": [],
   "source": [
    "from collections import Counter\n",
    "counter = Counter()"
   ]
  },
  {
   "cell_type": "code",
   "execution_count": 14,
   "metadata": {},
   "outputs": [],
   "source": [
    "for sentence in data['tweet']:\n",
    "    counter.update(sentence.split())"
   ]
  },
  {
   "cell_type": "code",
   "execution_count": 15,
   "metadata": {},
   "outputs": [],
   "source": [
    "tokens = [key for key in counter if counter[key]>20]"
   ]
  },
  {
   "cell_type": "code",
   "execution_count": 16,
   "metadata": {},
   "outputs": [],
   "source": [
    "def save_vocab(sentence,filename):\n",
    "    data = '\\n'.join(sentence)\n",
    "    file = open(filename, 'w', encoding='utf-8')\n",
    "    file.write(data)\n",
    "    file.close()\n",
    "\n",
    "save_vocab(tokens, '../static/model/vocabulary.txt')"
   ]
  },
  {
   "cell_type": "code",
   "execution_count": 17,
   "metadata": {},
   "outputs": [],
   "source": [
    "X = data['tweet']\n",
    "y = data['label']"
   ]
  },
  {
   "cell_type": "code",
   "execution_count": 18,
   "metadata": {},
   "outputs": [],
   "source": [
    "X_train,X_test,y_train,y_test = train_test_split(X,y,test_size=0.2)"
   ]
  },
  {
   "cell_type": "markdown",
   "metadata": {},
   "source": [
    "## Vectorization"
   ]
  },
  {
   "cell_type": "code",
   "execution_count": 19,
   "metadata": {},
   "outputs": [],
   "source": [
    "def vectorization(data,vocab):\n",
    "    vectorized_list=[]\n",
    "\n",
    "    for sentance in data:\n",
    "        sentence_list = np.zeros(len(vocab))\n",
    "        for i in range(len(vocab)):\n",
    "            if vocab[i] in sentance.split():\n",
    "                sentence_list[i] = 1\n",
    "        vectorized_list.append(sentence_list)\n",
    "    vectorized_list = np.asarray(vectorized_list, dtype=np.float32)\n",
    "    return vectorized_list\n"
   ]
  },
  {
   "cell_type": "code",
   "execution_count": 20,
   "metadata": {},
   "outputs": [],
   "source": [
    "vectorized_X_train = vectorization(X_train,tokens)"
   ]
  },
  {
   "cell_type": "code",
   "execution_count": 21,
   "metadata": {},
   "outputs": [],
   "source": [
    "vectorized_X_test = vectorization(X_test,tokens)"
   ]
  },
  {
   "cell_type": "code",
   "execution_count": 23,
   "metadata": {},
   "outputs": [],
   "source": [
    "from imblearn.over_sampling import SMOTE\n",
    "smote = SMOTE()\n",
    "vectorized_X_train, y_train = smote.fit_resample(vectorized_X_train,y_train)"
   ]
  },
  {
   "cell_type": "markdown",
   "metadata": {},
   "source": [
    "## Model Building and Validation"
   ]
  },
  {
   "cell_type": "code",
   "execution_count": 24,
   "metadata": {},
   "outputs": [],
   "source": [
    "from sklearn.linear_model import LogisticRegression\n",
    "from sklearn.ensemble import RandomForestClassifier\n",
    "from sklearn.naive_bayes import MultinomialNB\n",
    "from sklearn.tree import DecisionTreeClassifier\n",
    "from sklearn.svm import SVC"
   ]
  },
  {
   "cell_type": "code",
   "execution_count": 28,
   "metadata": {},
   "outputs": [],
   "source": [
    "from sklearn.metrics import accuracy_score,precision_score, recall_score, f1_score\n",
    "\n",
    "def training_test(y_true, y_pred):\n",
    "    accuracy = round(accuracy_score(y_true,y_pred),3)\n",
    "    precision = round(precision_score(y_true,y_pred),3)\n",
    "    recall = round(recall_score(y_true,y_pred),3)\n",
    "    f1 = round(f1_score(y_true,y_pred),3)\n",
    "    print(f\"Traning Score\\n    Accuracy: {accuracy}\\n    Precission: {precision}\\n    Recall: {recall}\\n    F1_score: {f1}\")\n",
    "\n",
    "def testing_test(y_true, y_pred):\n",
    "    accuracy = round(accuracy_score(y_true,y_pred),3)\n",
    "    precision = round(precision_score(y_true,y_pred),3)\n",
    "    recall = round(recall_score(y_true,y_pred),3)\n",
    "    f1 = round(f1_score(y_true,y_pred),3)\n",
    "    print(f\"Testing Score\\n    Accuracy: {accuracy}\\n    Precission: {precision}\\n    Recall: {recall}\\n    F1_score: {f1}\")"
   ]
  },
  {
   "cell_type": "markdown",
   "metadata": {},
   "source": [
    "### Logistic regresiom model"
   ]
  },
  {
   "cell_type": "code",
   "execution_count": 31,
   "metadata": {},
   "outputs": [
    {
     "name": "stdout",
     "output_type": "stream",
     "text": [
      "Traning Score\n",
      "    Accuracy: 0.922\n",
      "    Precission: 0.898\n",
      "    Recall: 0.953\n",
      "    F1_score: 0.925\n",
      "Testing Score\n",
      "    Accuracy: 0.859\n",
      "    Precission: 0.686\n",
      "    Recall: 0.856\n",
      "    F1_score: 0.761\n"
     ]
    }
   ],
   "source": [
    "logisticRegression = LogisticRegression()\n",
    "logisticRegression.fit(vectorized_X_train, y_train)\n",
    "\n",
    "y_train_pred = logisticRegression.predict(vectorized_X_train)\n",
    "training_test(y_train, y_train_pred)\n",
    "\n",
    "y_test_pred = logisticRegression.predict(vectorized_X_test)\n",
    "testing_test(y_test, y_test_pred)"
   ]
  },
  {
   "cell_type": "markdown",
   "metadata": {},
   "source": [
    "### RandomForestClassifier model"
   ]
  },
  {
   "cell_type": "code",
   "execution_count": 32,
   "metadata": {},
   "outputs": [
    {
     "name": "stdout",
     "output_type": "stream",
     "text": [
      "Traning Score\n",
      "    Accuracy: 0.999\n",
      "    Precission: 0.999\n",
      "    Recall: 0.999\n",
      "    F1_score: 0.999\n",
      "Testing Score\n",
      "    Accuracy: 0.852\n",
      "    Precission: 0.721\n",
      "    Recall: 0.714\n",
      "    F1_score: 0.717\n"
     ]
    }
   ],
   "source": [
    "randomForestClassifier = RandomForestClassifier()\n",
    "randomForestClassifier.fit(vectorized_X_train, y_train)\n",
    "\n",
    "y_train_pred = randomForestClassifier.predict(vectorized_X_train)\n",
    "training_test(y_train, y_train_pred)\n",
    "\n",
    "y_test_pred = randomForestClassifier.predict(vectorized_X_test)\n",
    "testing_test(y_test, y_test_pred)"
   ]
  },
  {
   "cell_type": "markdown",
   "metadata": {},
   "source": [
    "### MultinomialNB Model"
   ]
  },
  {
   "cell_type": "code",
   "execution_count": 33,
   "metadata": {},
   "outputs": [
    {
     "name": "stdout",
     "output_type": "stream",
     "text": [
      "Traning Score\n",
      "    Accuracy: 0.888\n",
      "    Precission: 0.858\n",
      "    Recall: 0.931\n",
      "    F1_score: 0.893\n",
      "Testing Score\n",
      "    Accuracy: 0.864\n",
      "    Precission: 0.674\n",
      "    Recall: 0.93\n",
      "    F1_score: 0.782\n"
     ]
    }
   ],
   "source": [
    "multinomialNB = MultinomialNB()\n",
    "multinomialNB.fit(vectorized_X_train, y_train)\n",
    "\n",
    "y_train_pred = multinomialNB.predict(vectorized_X_train)\n",
    "training_test(y_train, y_train_pred)\n",
    "\n",
    "y_test_pred = multinomialNB.predict(vectorized_X_test)\n",
    "testing_test(y_test, y_test_pred)"
   ]
  },
  {
   "cell_type": "markdown",
   "metadata": {},
   "source": [
    "### DecisionTreeClassifier model"
   ]
  },
  {
   "cell_type": "code",
   "execution_count": 34,
   "metadata": {},
   "outputs": [
    {
     "name": "stdout",
     "output_type": "stream",
     "text": [
      "Traning Score\n",
      "    Accuracy: 0.999\n",
      "    Precission: 1.0\n",
      "    Recall: 0.999\n",
      "    F1_score: 0.999\n",
      "Testing Score\n",
      "    Accuracy: 0.816\n",
      "    Precission: 0.642\n",
      "    Recall: 0.675\n",
      "    F1_score: 0.658\n"
     ]
    }
   ],
   "source": [
    "decisionTreeClassifier = DecisionTreeClassifier()\n",
    "decisionTreeClassifier.fit(vectorized_X_train, y_train)\n",
    "\n",
    "y_train_pred = decisionTreeClassifier.predict(vectorized_X_train)\n",
    "training_test(y_train, y_train_pred)\n",
    "\n",
    "y_test_pred = decisionTreeClassifier.predict(vectorized_X_test)\n",
    "testing_test(y_test, y_test_pred)"
   ]
  },
  {
   "cell_type": "markdown",
   "metadata": {},
   "source": [
    "### Support Vector Clasifier model"
   ]
  },
  {
   "cell_type": "code",
   "execution_count": 35,
   "metadata": {},
   "outputs": [
    {
     "name": "stdout",
     "output_type": "stream",
     "text": [
      "Traning Score\n",
      "    Accuracy: 0.968\n",
      "    Precission: 0.948\n",
      "    Recall: 0.991\n",
      "    F1_score: 0.969\n",
      "Testing Score\n",
      "    Accuracy: 0.876\n",
      "    Precission: 0.728\n",
      "    Recall: 0.841\n",
      "    F1_score: 0.78\n"
     ]
    }
   ],
   "source": [
    "supportVector = SVC()\n",
    "supportVector.fit(vectorized_X_train, y_train)\n",
    "\n",
    "y_train_pred = supportVector.predict(vectorized_X_train)\n",
    "training_test(y_train, y_train_pred)\n",
    "\n",
    "y_test_pred = supportVector.predict(vectorized_X_test)\n",
    "testing_test(y_test, y_test_pred)"
   ]
  },
  {
   "cell_type": "code",
   "execution_count": 37,
   "metadata": {},
   "outputs": [],
   "source": [
    "import pickle\n",
    "\n",
    "with open(\"../static/model/supportVector.pickle\", \"wb\") as file:\n",
    "    pickle.dump(supportVector, file)"
   ]
  },
  {
   "cell_type": "code",
   "execution_count": null,
   "metadata": {},
   "outputs": [],
   "source": []
  }
 ],
 "metadata": {
  "kernelspec": {
   "display_name": "env",
   "language": "python",
   "name": "python3"
  },
  "language_info": {
   "codemirror_mode": {
    "name": "ipython",
    "version": 3
   },
   "file_extension": ".py",
   "mimetype": "text/x-python",
   "name": "python",
   "nbconvert_exporter": "python",
   "pygments_lexer": "ipython3",
   "version": "3.11.2"
  },
  "orig_nbformat": 4
 },
 "nbformat": 4,
 "nbformat_minor": 2
}
